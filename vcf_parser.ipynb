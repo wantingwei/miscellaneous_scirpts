def read_vcf(vcf_path, file_name):
    """
    Read a VCF file into a DataFrame, skipping lines that start with '##'.
    Parameters:
        vcf_path (str): The path to the VCF file.
        file_name (str): The column name to replace 'hamster4-duodenum_S6_L003'
    Returns:
        pd.DataFrame: The DataFrame containing the VCF information.
    """
    with open(vcf_path, 'r') as f:
        lines = [l.strip() for l in f if not l.startswith('##')]

    header_line = [l for l in lines if l.startswith('#CHROM')][0]
    header = header_line.replace("#", "").split('\t')
    data_lines = lines[lines.index(header_line) + 1:]
    df = pd.DataFrame([x.split('\t') for x in data_lines], columns=header)

    df['ANN'] = df['INFO'].str.extract('ANN=(.*?)(;|$)')[0]
    ann_columns = df['ANN'].str.split('|', expand=True).iloc[:, :11]
    ann_columns.columns = ['Allele', 'Annotation', 'Annotation_Impact', 'Gene_Name','Gene_ID','Feature_Type','Feature_ID','Transcript_BioType','Rank','HGVS.c', 'Protein']
    df = pd.concat([df, ann_columns], axis=1)
    df.drop(['ANN', 'INFO'], axis=1, inplace=True)

    format_cols = df['FORMAT'].str.split(':').iloc[0]
    hamster_columns = df[file_name].str.split(':', expand=True)
    hamster_columns.columns = format_cols
    df = pd.concat([df, hamster_columns], axis=1)
    df.drop(['FORMAT', file_name], axis=1, inplace=True)

    # Extract amino acids and numbers to determine mutation type
    def classify_mutation(protein_str):
        match = re.search(r'p\.([A-Za-z]+)(\d+)([A-Za-z]+)', protein_str)
        if match:
            aa1, pos, aa2 = match.groups()
            return 'synonymous' if aa1 == aa2 else 'non-synonymous'
        return 'intergenic'
    
    df['Mutation_Type'] = df['Protein'].apply(classify_mutation)

    sub_dir = file_name.split("-")[0]
    sub_dir_name = sub_dir +'_cleaning'
    if not os.path.exists(sub_dir_name):
        os.makedirs(sub_dir_name)
    
    #print(df)
  
    # Uncomment the next lines to save the DataFrame to a CSV file
    new_file_name = file_name.replace('_L003', '')
    output_file_path = f"{sub_dir_name}/{new_file_name}_cleaning.csv"
    df.to_csv(output_file_path, sep='\t', header=True, index=False)
